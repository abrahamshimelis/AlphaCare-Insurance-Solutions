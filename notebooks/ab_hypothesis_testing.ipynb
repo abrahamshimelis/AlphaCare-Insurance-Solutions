{
 "cells": [
  {
   "cell_type": "markdown",
   "metadata": {},
   "source": [
    "## A/B Hypothesis Testing"
   ]
  },
  {
   "cell_type": "markdown",
   "metadata": {},
   "source": [
    "#### Importing "
   ]
  },
  {
   "cell_type": "code",
   "execution_count": 1,
   "metadata": {},
   "outputs": [],
   "source": [
    "import sys\n",
    "sys.path.append('../')\n",
    "import pandas as pd\n",
    "import numpy as np\n",
    "from tabulate import tabulate\n",
    "import matplotlib.pyplot as plt\n",
    "import seaborn as sns\n",
    "from scipy.stats import ttest_ind, chi2_contingency, f_oneway\n",
    "from src.data_quality_checks import get_total_missing_percentage, check_missing_data\n",
    "from src.descriptive_statistics import describe_numerical, summarize_categorical\n",
    "from src.plots import plot_histograms, plot_bar_charts, plot_histogram, plot_bar_chart, display_summary_table, plot_time_series, plot_time_series_dots, scatter_plot_advanced, scatter_plot, box_plots"
   ]
  },
  {
   "cell_type": "markdown",
   "metadata": {},
   "source": [
    "#### Data Preprocessing "
   ]
  },
  {
   "cell_type": "code",
   "execution_count": 2,
   "metadata": {},
   "outputs": [],
   "source": [
    "# Loading historical data\n",
    "file_path = \"../data/MachineLearningRating_v3.txt\"\n",
    "\n",
    "df = pd.read_csv(file_path, sep='|', low_memory=False)"
   ]
  },
  {
   "cell_type": "markdown",
   "metadata": {},
   "source": [
    "selecting relevant columns"
   ]
  },
  {
   "cell_type": "code",
   "execution_count": 3,
   "metadata": {},
   "outputs": [],
   "source": [
    "relevant_cols = ['TransactionMonth','TotalPremium', 'TotalClaims', 'Gender', 'PostalCode', 'Citizenship', 'Province', 'VehicleType', 'RegistrationYear', 'make', 'Model', 'NewVehicle']\n",
    "\n",
    "df_relevant_cols = df[relevant_cols]"
   ]
  },
  {
   "cell_type": "markdown",
   "metadata": {},
   "source": [
    "Data cleaning"
   ]
  },
  {
   "cell_type": "code",
   "execution_count": 4,
   "metadata": {},
   "outputs": [
    {
     "name": "stdout",
     "output_type": "stream",
     "text": [
      "    Column Name  Missing Values  Percentage Missing\n",
      "3        Gender            9536            0.953507\n",
      "7   VehicleType             552            0.055195\n",
      "9          make             552            0.055195\n",
      "10        Model             552            0.055195\n",
      "11   NewVehicle          153295           15.327998\n"
     ]
    }
   ],
   "source": [
    "# checking for columns with missing values\n",
    "missing_data = check_missing_data(df_relevant_cols)\n",
    "print(missing_data)"
   ]
  },
  {
   "cell_type": "code",
   "execution_count": 5,
   "metadata": {},
   "outputs": [],
   "source": [
    "df_relevant_cols.loc[:, 'VehicleType'] = df_relevant_cols['VehicleType'].fillna(df_relevant_cols['VehicleType'].mode()[0])\n",
    "df_relevant_cols.loc[:, 'make'] = df_relevant_cols['make'].fillna(df_relevant_cols['make'].mode()[0])\n",
    "df_relevant_cols.loc[:, 'Model'] = df_relevant_cols['Model'].fillna(df_relevant_cols['Model'].mode()[0])\n",
    "df_relevant_cols.loc[:, 'NewVehicle'] = df_relevant_cols['NewVehicle'].fillna(df_relevant_cols['NewVehicle'].mode()[0])\n",
    "df_relevant_cols.loc[:, 'Gender'] = df_relevant_cols['Gender'].fillna(df_relevant_cols['Gender'].mode()[0])"
   ]
  },
  {
   "cell_type": "code",
   "execution_count": 6,
   "metadata": {},
   "outputs": [
    {
     "name": "stdout",
     "output_type": "stream",
     "text": [
      "Success: No missing values.\n"
     ]
    }
   ],
   "source": [
    "# checking for columns with missing values\n",
    "missing_data = check_missing_data(df_relevant_cols)\n",
    "print(missing_data)"
   ]
  },
  {
   "cell_type": "markdown",
   "metadata": {},
   "source": [
    "#### Select Metrics"
   ]
  },
  {
   "cell_type": "code",
   "execution_count": 7,
   "metadata": {},
   "outputs": [],
   "source": [
    "selected_cols = ['TotalClaims', 'TotalPremium', 'Province']\n",
    "\n",
    "df_selected_cols = df_relevant_cols[selected_cols]"
   ]
  },
  {
   "cell_type": "markdown",
   "metadata": {},
   "source": [
    "#### Testing Risk Difference Across Provinces"
   ]
  },
  {
   "cell_type": "code",
   "execution_count": 8,
   "metadata": {},
   "outputs": [],
   "source": [
    "# Select metrics\n",
    "province_data = df_selected_cols[['Province', 'TotalClaims']]"
   ]
  },
  {
   "cell_type": "code",
   "execution_count": 9,
   "metadata": {},
   "outputs": [],
   "source": [
    "# data segementation \n",
    "grouped_data = province_data.groupby('Province')['TotalClaims']"
   ]
  },
  {
   "cell_type": "code",
   "execution_count": 10,
   "metadata": {},
   "outputs": [],
   "source": [
    "# Extract values for each province\n",
    "province_values = [group for name, group in grouped_data]"
   ]
  },
  {
   "cell_type": "code",
   "execution_count": 11,
   "metadata": {},
   "outputs": [
    {
     "name": "stdout",
     "output_type": "stream",
     "text": [
      "F-statistic: 5.84941376240761, p-value: 1.6782057588675906e-07\n"
     ]
    }
   ],
   "source": [
    "# Perform ANOVA test\n",
    "f_stat, p_value = f_oneway(*province_values)\n",
    "print(f'F-statistic: {f_stat}, p-value: {p_value}')"
   ]
  }
 ],
 "metadata": {
  "kernelspec": {
   "display_name": "venv",
   "language": "python",
   "name": "python3"
  },
  "language_info": {
   "codemirror_mode": {
    "name": "ipython",
    "version": 3
   },
   "file_extension": ".py",
   "mimetype": "text/x-python",
   "name": "python",
   "nbconvert_exporter": "python",
   "pygments_lexer": "ipython3",
   "version": "3.12.3"
  }
 },
 "nbformat": 4,
 "nbformat_minor": 2
}
