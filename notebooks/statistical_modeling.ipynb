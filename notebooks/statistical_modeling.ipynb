{
 "cells": [
  {
   "cell_type": "markdown",
   "metadata": {},
   "source": [
    "## Statistical modeling"
   ]
  },
  {
   "cell_type": "markdown",
   "metadata": {},
   "source": [
    "#### Data Preparation"
   ]
  },
  {
   "cell_type": "code",
   "execution_count": 1,
   "metadata": {},
   "outputs": [],
   "source": [
    "import sys\n",
    "sys.path.append('../')\n",
    "import pandas as pd\n",
    "import numpy as np\n",
    "from tabulate import tabulate\n",
    "import matplotlib.pyplot as plt\n",
    "import seaborn as sns\n",
    "from sklearn.model_selection import train_test_split\n",
    "from sklearn.preprocessing import OneHotEncoder, StandardScaler\n",
    "from src.data_quality_checks import check_missing_data\n",
    "from sklearn.linear_model import LinearRegression\n",
    "from sklearn.tree import DecisionTreeRegressor\n",
    "from sklearn.ensemble import RandomForestRegressor\n",
    "# from xgboost import XGBRegressor"
   ]
  },
  {
   "cell_type": "code",
   "execution_count": 2,
   "metadata": {},
   "outputs": [],
   "source": [
    "# Loading historical data\n",
    "file_path = \"../data/MachineLearningRating_v3.txt\"\n",
    "\n",
    "df = pd.read_csv(file_path, sep='|', low_memory=False)"
   ]
  },
  {
   "cell_type": "code",
   "execution_count": 3,
   "metadata": {},
   "outputs": [],
   "source": [
    "# selecting relevant columns\n",
    "relevant_cols = ['TotalPremium', 'TotalClaims', 'Gender', 'PostalCode', 'Province', 'VehicleType', 'RegistrationYear', 'make', 'Model', 'NewVehicle']\n",
    "\n",
    "df_relevant_cols = df[relevant_cols]"
   ]
  },
  {
   "cell_type": "code",
   "execution_count": 4,
   "metadata": {},
   "outputs": [
    {
     "name": "stderr",
     "output_type": "stream",
     "text": [
      "/tmp/ipykernel_7587/582338833.py:2: SettingWithCopyWarning: \n",
      "A value is trying to be set on a copy of a slice from a DataFrame.\n",
      "Try using .loc[row_indexer,col_indexer] = value instead\n",
      "\n",
      "See the caveats in the documentation: https://pandas.pydata.org/pandas-docs/stable/user_guide/indexing.html#returning-a-view-versus-a-copy\n",
      "  df_relevant_cols['CarAge'] = 2024 - df_relevant_cols['RegistrationYear']\n"
     ]
    }
   ],
   "source": [
    "# Feature engineering: Example\n",
    "df_relevant_cols['CarAge'] = 2024 - df_relevant_cols['RegistrationYear']"
   ]
  },
  {
   "cell_type": "code",
   "execution_count": 5,
   "metadata": {},
   "outputs": [
    {
     "name": "stdout",
     "output_type": "stream",
     "text": [
      "   Column Name  Missing Values  Percentage Missing\n",
      "2       Gender            9536            0.953507\n",
      "5  VehicleType             552            0.055195\n",
      "7         make             552            0.055195\n",
      "8        Model             552            0.055195\n",
      "9   NewVehicle          153295           15.327998\n"
     ]
    }
   ],
   "source": [
    "# checking for columns with missing values\n",
    "missing_data = check_missing_data(df_relevant_cols)\n",
    "print(missing_data)"
   ]
  },
  {
   "cell_type": "code",
   "execution_count": 6,
   "metadata": {},
   "outputs": [],
   "source": [
    "# data cleaning\n",
    "df_relevant_cols.loc[:, 'VehicleType'] = df_relevant_cols['VehicleType'].fillna(df_relevant_cols['VehicleType'].mode()[0])\n",
    "df_relevant_cols.loc[:, 'make'] = df_relevant_cols['make'].fillna(df_relevant_cols['make'].mode()[0])\n",
    "df_relevant_cols.loc[:, 'Model'] = df_relevant_cols['Model'].fillna(df_relevant_cols['Model'].mode()[0])\n",
    "df_relevant_cols.loc[:, 'NewVehicle'] = df_relevant_cols['NewVehicle'].fillna(df_relevant_cols['NewVehicle'].mode()[0])\n",
    "df_relevant_cols.loc[:, 'Gender'] = df_relevant_cols['Gender'].fillna(df_relevant_cols['Gender'].mode()[0])"
   ]
  },
  {
   "cell_type": "code",
   "execution_count": 7,
   "metadata": {},
   "outputs": [
    {
     "name": "stdout",
     "output_type": "stream",
     "text": [
      "Success: No missing values.\n"
     ]
    }
   ],
   "source": [
    "# checking for columns with missing values\n",
    "missing_data = check_missing_data(df_relevant_cols)\n",
    "print(missing_data)"
   ]
  },
  {
   "cell_type": "code",
   "execution_count": 8,
   "metadata": {},
   "outputs": [
    {
     "data": {
      "text/html": [
       "<div>\n",
       "<style scoped>\n",
       "    .dataframe tbody tr th:only-of-type {\n",
       "        vertical-align: middle;\n",
       "    }\n",
       "\n",
       "    .dataframe tbody tr th {\n",
       "        vertical-align: top;\n",
       "    }\n",
       "\n",
       "    .dataframe thead th {\n",
       "        text-align: right;\n",
       "    }\n",
       "</style>\n",
       "<table border=\"1\" class=\"dataframe\">\n",
       "  <thead>\n",
       "    <tr style=\"text-align: right;\">\n",
       "      <th></th>\n",
       "      <th>TotalPremium</th>\n",
       "      <th>TotalClaims</th>\n",
       "      <th>Gender</th>\n",
       "      <th>PostalCode</th>\n",
       "      <th>Province</th>\n",
       "      <th>VehicleType</th>\n",
       "      <th>RegistrationYear</th>\n",
       "      <th>make</th>\n",
       "      <th>Model</th>\n",
       "      <th>NewVehicle</th>\n",
       "      <th>CarAge</th>\n",
       "    </tr>\n",
       "  </thead>\n",
       "  <tbody>\n",
       "    <tr>\n",
       "      <th>0</th>\n",
       "      <td>21.929825</td>\n",
       "      <td>0.0</td>\n",
       "      <td>Not specified</td>\n",
       "      <td>1459</td>\n",
       "      <td>Gauteng</td>\n",
       "      <td>Passenger Vehicle</td>\n",
       "      <td>2004</td>\n",
       "      <td>MERCEDES-BENZ</td>\n",
       "      <td>E 240</td>\n",
       "      <td>More than 6 months</td>\n",
       "      <td>20</td>\n",
       "    </tr>\n",
       "    <tr>\n",
       "      <th>1</th>\n",
       "      <td>21.929825</td>\n",
       "      <td>0.0</td>\n",
       "      <td>Not specified</td>\n",
       "      <td>1459</td>\n",
       "      <td>Gauteng</td>\n",
       "      <td>Passenger Vehicle</td>\n",
       "      <td>2004</td>\n",
       "      <td>MERCEDES-BENZ</td>\n",
       "      <td>E 240</td>\n",
       "      <td>More than 6 months</td>\n",
       "      <td>20</td>\n",
       "    </tr>\n",
       "    <tr>\n",
       "      <th>2</th>\n",
       "      <td>0.000000</td>\n",
       "      <td>0.0</td>\n",
       "      <td>Not specified</td>\n",
       "      <td>1459</td>\n",
       "      <td>Gauteng</td>\n",
       "      <td>Passenger Vehicle</td>\n",
       "      <td>2004</td>\n",
       "      <td>MERCEDES-BENZ</td>\n",
       "      <td>E 240</td>\n",
       "      <td>More than 6 months</td>\n",
       "      <td>20</td>\n",
       "    </tr>\n",
       "    <tr>\n",
       "      <th>3</th>\n",
       "      <td>512.848070</td>\n",
       "      <td>0.0</td>\n",
       "      <td>Not specified</td>\n",
       "      <td>1459</td>\n",
       "      <td>Gauteng</td>\n",
       "      <td>Passenger Vehicle</td>\n",
       "      <td>2004</td>\n",
       "      <td>MERCEDES-BENZ</td>\n",
       "      <td>E 240</td>\n",
       "      <td>More than 6 months</td>\n",
       "      <td>20</td>\n",
       "    </tr>\n",
       "    <tr>\n",
       "      <th>4</th>\n",
       "      <td>0.000000</td>\n",
       "      <td>0.0</td>\n",
       "      <td>Not specified</td>\n",
       "      <td>1459</td>\n",
       "      <td>Gauteng</td>\n",
       "      <td>Passenger Vehicle</td>\n",
       "      <td>2004</td>\n",
       "      <td>MERCEDES-BENZ</td>\n",
       "      <td>E 240</td>\n",
       "      <td>More than 6 months</td>\n",
       "      <td>20</td>\n",
       "    </tr>\n",
       "    <tr>\n",
       "      <th>5</th>\n",
       "      <td>3.256435</td>\n",
       "      <td>0.0</td>\n",
       "      <td>Not specified</td>\n",
       "      <td>1459</td>\n",
       "      <td>Gauteng</td>\n",
       "      <td>Passenger Vehicle</td>\n",
       "      <td>2004</td>\n",
       "      <td>MERCEDES-BENZ</td>\n",
       "      <td>E 240</td>\n",
       "      <td>More than 6 months</td>\n",
       "      <td>20</td>\n",
       "    </tr>\n",
       "    <tr>\n",
       "      <th>6</th>\n",
       "      <td>50.474737</td>\n",
       "      <td>0.0</td>\n",
       "      <td>Not specified</td>\n",
       "      <td>1459</td>\n",
       "      <td>Gauteng</td>\n",
       "      <td>Passenger Vehicle</td>\n",
       "      <td>2004</td>\n",
       "      <td>MERCEDES-BENZ</td>\n",
       "      <td>E 240</td>\n",
       "      <td>More than 6 months</td>\n",
       "      <td>20</td>\n",
       "    </tr>\n",
       "    <tr>\n",
       "      <th>7</th>\n",
       "      <td>35.332316</td>\n",
       "      <td>0.0</td>\n",
       "      <td>Not specified</td>\n",
       "      <td>1459</td>\n",
       "      <td>Gauteng</td>\n",
       "      <td>Passenger Vehicle</td>\n",
       "      <td>2004</td>\n",
       "      <td>MERCEDES-BENZ</td>\n",
       "      <td>E 240</td>\n",
       "      <td>More than 6 months</td>\n",
       "      <td>20</td>\n",
       "    </tr>\n",
       "    <tr>\n",
       "      <th>8</th>\n",
       "      <td>0.000000</td>\n",
       "      <td>0.0</td>\n",
       "      <td>Not specified</td>\n",
       "      <td>1459</td>\n",
       "      <td>Gauteng</td>\n",
       "      <td>Passenger Vehicle</td>\n",
       "      <td>2004</td>\n",
       "      <td>MERCEDES-BENZ</td>\n",
       "      <td>E 240</td>\n",
       "      <td>More than 6 months</td>\n",
       "      <td>20</td>\n",
       "    </tr>\n",
       "    <tr>\n",
       "      <th>9</th>\n",
       "      <td>1.009474</td>\n",
       "      <td>0.0</td>\n",
       "      <td>Not specified</td>\n",
       "      <td>1459</td>\n",
       "      <td>Gauteng</td>\n",
       "      <td>Passenger Vehicle</td>\n",
       "      <td>2004</td>\n",
       "      <td>MERCEDES-BENZ</td>\n",
       "      <td>E 240</td>\n",
       "      <td>More than 6 months</td>\n",
       "      <td>20</td>\n",
       "    </tr>\n",
       "  </tbody>\n",
       "</table>\n",
       "</div>"
      ],
      "text/plain": [
       "   TotalPremium  TotalClaims         Gender  PostalCode Province  \\\n",
       "0     21.929825          0.0  Not specified        1459  Gauteng   \n",
       "1     21.929825          0.0  Not specified        1459  Gauteng   \n",
       "2      0.000000          0.0  Not specified        1459  Gauteng   \n",
       "3    512.848070          0.0  Not specified        1459  Gauteng   \n",
       "4      0.000000          0.0  Not specified        1459  Gauteng   \n",
       "5      3.256435          0.0  Not specified        1459  Gauteng   \n",
       "6     50.474737          0.0  Not specified        1459  Gauteng   \n",
       "7     35.332316          0.0  Not specified        1459  Gauteng   \n",
       "8      0.000000          0.0  Not specified        1459  Gauteng   \n",
       "9      1.009474          0.0  Not specified        1459  Gauteng   \n",
       "\n",
       "         VehicleType  RegistrationYear           make  Model  \\\n",
       "0  Passenger Vehicle              2004  MERCEDES-BENZ  E 240   \n",
       "1  Passenger Vehicle              2004  MERCEDES-BENZ  E 240   \n",
       "2  Passenger Vehicle              2004  MERCEDES-BENZ  E 240   \n",
       "3  Passenger Vehicle              2004  MERCEDES-BENZ  E 240   \n",
       "4  Passenger Vehicle              2004  MERCEDES-BENZ  E 240   \n",
       "5  Passenger Vehicle              2004  MERCEDES-BENZ  E 240   \n",
       "6  Passenger Vehicle              2004  MERCEDES-BENZ  E 240   \n",
       "7  Passenger Vehicle              2004  MERCEDES-BENZ  E 240   \n",
       "8  Passenger Vehicle              2004  MERCEDES-BENZ  E 240   \n",
       "9  Passenger Vehicle              2004  MERCEDES-BENZ  E 240   \n",
       "\n",
       "           NewVehicle  CarAge  \n",
       "0  More than 6 months      20  \n",
       "1  More than 6 months      20  \n",
       "2  More than 6 months      20  \n",
       "3  More than 6 months      20  \n",
       "4  More than 6 months      20  \n",
       "5  More than 6 months      20  \n",
       "6  More than 6 months      20  \n",
       "7  More than 6 months      20  \n",
       "8  More than 6 months      20  \n",
       "9  More than 6 months      20  "
      ]
     },
     "execution_count": 8,
     "metadata": {},
     "output_type": "execute_result"
    }
   ],
   "source": [
    "df_relevant_cols.head(10)"
   ]
  },
  {
   "cell_type": "code",
   "execution_count": 9,
   "metadata": {},
   "outputs": [
    {
     "ename": "",
     "evalue": "",
     "output_type": "error",
     "traceback": [
      "\u001b[1;31mThe Kernel crashed while executing code in the current cell or a previous cell. \n",
      "\u001b[1;31mPlease review the code in the cell(s) to identify a possible cause of the failure. \n",
      "\u001b[1;31mClick <a href='https://aka.ms/vscodeJupyterKernelCrash'>here</a> for more info. \n",
      "\u001b[1;31mView Jupyter <a href='command:jupyter.viewOutput'>log</a> for further details."
     ]
    }
   ],
   "source": [
    "# Encoding categorical data\n",
    "categorical_features = ['Province', 'PostalCode', 'Gender', 'VehicleType', 'CarAge', 'NewVehicle']\n",
    "encoder = OneHotEncoder(drop='first')\n",
    "encoded_features = encoder.fit_transform(df_relevant_cols[categorical_features])\n",
    "\n",
    "# Create DataFrame\n",
    "feature_names = encoder.get_feature_names_out(input_features=categorical_features)\n",
    "encoded_features_df = pd.DataFrame(encoded_features.toarray(), columns=feature_names)\n",
    "data = df_relevant_cols.drop(categorical_features, axis=1)\n",
    "data = pd.concat([data, encoded_features_df], axis=1)"
   ]
  },
  {
   "cell_type": "markdown",
   "metadata": {},
   "source": [
    "#### Model Building"
   ]
  },
  {
   "cell_type": "markdown",
   "metadata": {},
   "source": [
    "#### Model Evaluation"
   ]
  },
  {
   "cell_type": "markdown",
   "metadata": {},
   "source": [
    "#### Feature Importance Analysis"
   ]
  },
  {
   "cell_type": "markdown",
   "metadata": {},
   "source": [
    "#### Reporting Results"
   ]
  }
 ],
 "metadata": {
  "kernelspec": {
   "display_name": "venv",
   "language": "python",
   "name": "python3"
  },
  "language_info": {
   "codemirror_mode": {
    "name": "ipython",
    "version": 3
   },
   "file_extension": ".py",
   "mimetype": "text/x-python",
   "name": "python",
   "nbconvert_exporter": "python",
   "pygments_lexer": "ipython3",
   "version": "3.12.3"
  }
 },
 "nbformat": 4,
 "nbformat_minor": 2
}
